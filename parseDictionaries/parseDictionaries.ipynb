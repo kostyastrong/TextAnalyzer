{
 "cells": [
  {
   "cell_type": "markdown",
   "source": [
    "Sources of the files with words:\n",
    "\n",
    "http://www.gwicks.net/dictionaries.htm\n",
    "http://www.math.sjsu.edu/~foster/dictionary.txt\n",
    "https://github.com/dwyl/english-words\n",
    "http://www.mieliestronk.com/corncob_lowercase.txt\n"
   ],
   "metadata": {
    "collapsed": false,
    "pycharm": {
     "name": "#%% md\n"
    }
   }
  },
  {
   "cell_type": "code",
   "execution_count": 2,
   "outputs": [],
   "source": [
    "def loadWords(filename):\n",
    "    with open(filename) as curFile:\n",
    "        ret = set(curFile.read().split())\n",
    "    return ret"
   ],
   "metadata": {
    "collapsed": false,
    "pycharm": {
     "name": "#%%\n"
    }
   }
  },
  {
   "cell_type": "code",
   "execution_count": 3,
   "outputs": [],
   "source": [
    "import os\n",
    "def setOfWords(path:str):\n",
    "    words = set()\n",
    "    for filename in os.listdir(path):\n",
    "        if filename.endswith(\".txt\"):  # my boy\n",
    "            words = words.union(loadWords(path + '/' + filename))\n",
    "    return words"
   ],
   "metadata": {
    "collapsed": false,
    "pycharm": {
     "name": "#%%\n"
    }
   }
  },
  {
   "cell_type": "code",
   "execution_count": 4,
   "outputs": [],
   "source": [
    "words = setOfWords(\"/home/maincpp/WordsFinder/parseDictionaries/words\")"
   ],
   "metadata": {
    "collapsed": false,
    "pycharm": {
     "name": "#%%\n"
    }
   }
  },
  {
   "cell_type": "code",
   "execution_count": 5,
   "outputs": [
    {
     "name": "stdout",
     "output_type": "stream",
     "text": [
      "unsustainably\n",
      "cyan-blue\n",
      "Palaung\n",
      "napiform\n",
      "forehatch\n"
     ]
    }
   ],
   "source": [
    "ind = 0\n",
    "for j in words:\n",
    "    if ind == 5: break\n",
    "    print(j, sep=', ')\n",
    "    ind += 1"
   ],
   "metadata": {
    "collapsed": false,
    "pycharm": {
     "name": "#%%\n"
    }
   }
  },
  {
   "cell_type": "code",
   "execution_count": 6,
   "outputs": [],
   "source": [
    "words = sorted(list(words))"
   ],
   "metadata": {
    "collapsed": false,
    "pycharm": {
     "name": "#%%\n"
    }
   }
  },
  {
   "cell_type": "code",
   "execution_count": 7,
   "outputs": [
    {
     "name": "stdout",
     "output_type": "stream",
     "text": [
      "['&c', \"'d\", \"'em\", \"'ll\", \"'m\"]\n"
     ]
    }
   ],
   "source": [
    "print(words[:5])"
   ],
   "metadata": {
    "collapsed": false,
    "pycharm": {
     "name": "#%%\n"
    }
   }
  },
  {
   "cell_type": "markdown",
   "source": [
    "As you can see, there are a lot of \"strange\" words. For an Example there is no definitions for '&c' in Oxford or Cambridge dictionaries, but a few in Collins or Vocabulary.com. Collins says it's a letter 'c'. Vocabulary.com shows '&c' as 'cc' and says that it's a 'cubic centimeter\". It's a valid abbreviation, but a wrong one in our case."
   ],
   "metadata": {
    "collapsed": false,
    "pycharm": {
     "name": "#%% md\n"
    }
   }
  },
  {
   "cell_type": "markdown",
   "source": [
    "https://www.englishprofile.org/wordlists/evp"
   ],
   "metadata": {
    "collapsed": false,
    "pycharm": {
     "name": "#%% md\n"
    }
   }
  },
  {
   "cell_type": "markdown",
   "source": [
    "Columns: Part of speech; Difficulties and definitions in Cambridge, Oxford, Collins, definitions; google usage"
   ],
   "metadata": {
    "collapsed": false,
    "pycharm": {
     "name": "#%% md\n"
    }
   }
  },
  {
   "cell_type": "markdown",
   "source": [
    "Measuring difficulty:\n",
    "    1) Cambridge, Oxford, Collins\n",
    "    2) NGSL 2800 core vocabulary words "
   ],
   "metadata": {
    "collapsed": false,
    "pycharm": {
     "name": "#%% md\n"
    }
   }
  },
  {
   "cell_type": "code",
   "execution_count": 6,
   "outputs": [],
   "source": [],
   "metadata": {
    "collapsed": false,
    "pycharm": {
     "name": "#%%\n"
    }
   }
  },
  {
   "cell_type": "code",
   "execution_count": 6,
   "outputs": [],
   "source": [],
   "metadata": {
    "collapsed": false,
    "pycharm": {
     "name": "#%%\n"
    }
   }
  }
 ],
 "metadata": {
  "kernelspec": {
   "display_name": "Python 3",
   "language": "python",
   "name": "python3"
  },
  "language_info": {
   "codemirror_mode": {
    "name": "ipython",
    "version": 2
   },
   "file_extension": ".py",
   "mimetype": "text/x-python",
   "name": "python",
   "nbconvert_exporter": "python",
   "pygments_lexer": "ipython2",
   "version": "2.7.6"
  }
 },
 "nbformat": 4,
 "nbformat_minor": 0
}